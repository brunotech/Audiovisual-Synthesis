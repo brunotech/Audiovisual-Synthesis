{
  "nbformat": 4,
  "nbformat_minor": 0,
  "metadata": {
    "colab": {
      "name": "SDEdit_shared_demo.ipynb",
      "provenance": [],
      "collapsed_sections": [],
      "include_colab_link": true
    },
    "kernelspec": {
      "name": "python3",
      "display_name": "Python 3"
    },
    "language_info": {
      "name": "python"
    },
    "accelerator": "GPU"
  },
  "cells": [
    {
      "cell_type": "markdown",
      "metadata": {
        "id": "view-in-github",
        "colab_type": "text"
      },
      "source": [
        "<a href=\"https://colab.research.google.com/github/brunotech/Audiovisual-Synthesis/blob/master/SDEdit_shared_demo.ipynb\" target=\"_parent\"><img src=\"https://colab.research.google.com/assets/colab-badge.svg\" alt=\"Open In Colab\"/></a>"
      ]
    },
    {
      "cell_type": "code",
      "metadata": {
        "collapsed": true,
        "id": "NZXJJiBfEaeB"
      },
      "source": [
        "%%bash\n",
        "!(stat -t /usr/local/lib/*/dist-packages/google/colab > /dev/null 2>&1) && exit \n",
        "pip install ninja 2>> install.log\n",
        "git clone --recursive https://github.com/ermongroup/SDEdit tutorial_code"
      ],
      "execution_count": null,
      "outputs": []
    },
    {
      "cell_type": "code",
      "metadata": {
        "id": "wymEzMbyEu31"
      },
      "source": [
        "try: # set up path\n",
        "    import google.colab, sys, torch\n",
        "    sys.path.append('/content/tutorial_code')\n",
        "    if not torch.cuda.is_available():\n",
        "        print(\"Change runtime type to include a GPU.\")\n",
        "    device = \"cuda\"\n",
        "except:\n",
        "    pass"
      ],
      "execution_count": null,
      "outputs": []
    },
    {
      "cell_type": "code",
      "metadata": {
        "id": "gZAZaDl-Eyty"
      },
      "source": [
        "sys.path.append('/content/tutorial_code/')\n",
        "import yaml\n",
        "import os\n",
        "import numpy as np\n",
        "from tqdm import tqdm\n",
        "import matplotlib.pyplot as plt\n",
        "from functions.process_data import *\n",
        "from main import dict2namespace\n",
        "from runners.image_editing import *\n",
        "from models.diffusion import Model\n",
        "from colab_utils.utils import *\n",
        "\n",
        "import warnings\n",
        "warnings.filterwarnings(\"ignore\")"
      ],
      "execution_count": null,
      "outputs": []
    },
    {
      "cell_type": "code",
      "metadata": {
        "id": "4jgMcrd2E0Lz"
      },
      "source": [
        "download_process_data(path=\"colab_demo\")"
      ],
      "execution_count": null,
      "outputs": []
    },
    {
      "cell_type": "markdown",
      "metadata": {
        "id": "ni-7_uf9E62B"
      },
      "source": [
        "Scribble based image generation on LSUN bedroom dataset"
      ]
    },
    {
      "cell_type": "code",
      "metadata": {
        "id": "0M6NdLSBE4B4"
      },
      "source": [
        "dataset = \"LSUN\"\n",
        "category = \"bedroom\"\n",
        "data_name = \"lsun_bedroom1\"\n",
        "sample_step = 3\n",
        "model, betas, num_timesteps, logvar = load_model(dataset, category, \"bedroom.yml\")\n",
        "total_noise_levels = 500\n",
        "SDEditing(betas, logvar, model, data_name, sample_step, total_noise_levels, n=3)"
      ],
      "execution_count": null,
      "outputs": []
    },
    {
      "cell_type": "markdown",
      "metadata": {
        "id": "4JEEo3wWE9Zq"
      },
      "source": [
        "Scribble based image generation on LSUN church outdoor dataset"
      ]
    },
    {
      "cell_type": "code",
      "metadata": {
        "id": "HTz03NOPE8xR"
      },
      "source": [
        "dataset = \"LSUN\"\n",
        "category = \"church_outdoor\"\n",
        "data_name = \"lsun_church\"\n",
        "sample_step = 3\n",
        "model, betas, num_timesteps, logvar = load_model(dataset, category, \"church.yml\")\n",
        "total_noise_levels = 500\n",
        "SDEditing(betas, logvar, model, data_name, sample_step, total_noise_levels, n=3)"
      ],
      "execution_count": null,
      "outputs": []
    },
    {
      "cell_type": "markdown",
      "metadata": {
        "id": "PZI25MI0FAcH"
      },
      "source": [
        "Scribble based image editing on LSUN church outdoor dataset"
      ]
    },
    {
      "cell_type": "code",
      "metadata": {
        "collapsed": true,
        "id": "cy4fo7MmFCtw"
      },
      "source": [
        "dataset = \"LSUN\"\n",
        "category = \"church_outdoor\"\n",
        "data_name = \"lsun_edit\"\n",
        "sample_step = 3\n",
        "model, betas, num_timesteps, logvar = load_model(dataset, category, \"church.yml\")\n",
        "total_noise_levels = 500\n",
        "SDEditing(betas, logvar, model, data_name, sample_step, total_noise_levels, n=3)"
      ],
      "execution_count": null,
      "outputs": []
    }
  ]
}